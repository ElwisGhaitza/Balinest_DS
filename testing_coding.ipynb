{
 "cells": [
  {
   "cell_type": "code",
   "execution_count": 1,
   "id": "9223f812",
   "metadata": {},
   "outputs": [],
   "source": [
    " # Importing modules\n",
    "import pickle # For loading model\n",
    "import streamlit as st # For web app\n",
    "import pandas as pd\n",
    "import numpy as np\n",
    "from sklearn.feature_extraction.text import CountVectorizer\n",
    "from sklearn.metrics.pairwise import cosine_similarity\n",
    "from sklearn.feature_extraction.text import TfidfVectorizer"
   ]
  },
  {
   "cell_type": "code",
   "execution_count": 2,
   "id": "e6a2c272",
   "metadata": {},
   "outputs": [],
   "source": [
    "# Loading data frame\n",
    "rec_wisata = pickle.load(open('rec_wisata.pkl','rb'))\n",
    "wisata = rec_wisata.index\n",
    "\n",
    "# Loading similarity file\n",
    "similarity = pickle.load(open('similarity.pkl','rb'))"
   ]
  },
  {
   "cell_type": "code",
   "execution_count": 3,
   "id": "b7de728a",
   "metadata": {},
   "outputs": [],
   "source": [
    "def recommend(place_name):\n",
    "    index = rec_wisata[rec_wisata.place_name == rec_wisata][\"index\"].values[0]\n",
    "    distances = sorted(list(enumerate(similarity[index])), reverse=True, key=lambda x: x[1])\n",
    "    recommended_image = []\n",
    "    recommended_place_name = []\n",
    "    recommended_city = []\n",
    "    recommended_description = []\n",
    "    recommended_weekend = []\n",
    "    recommended_weekday = []\n",
    "    for i in distances[1:6]:\n",
    "        recommended_image.append(rec_wisata.iloc[i[0]].image)\n",
    "        recommended_place_name.append(rec_wisata.iloc[i[0]].place_name)\n",
    "        recommended_city.append(rec_wisata.iloc[i[0]].city)\n",
    "        recommended_description.append(rec_wisata.iloc[i[0]].description)\n",
    "        recommended_weekend.append(rec_wisata.iloc[i[0]].weekend_price)\n",
    "        recommended_weekday.append(rec_wisata.iloc[i[0]].weekday_price)\n",
    "\n",
    "    return recommended_image, recommended_place_name, recommended_city, recommended_description, recommended_weekend, recommended_weekday"
   ]
  },
  {
   "cell_type": "code",
   "execution_count": 6,
   "id": "9ce4dea7",
   "metadata": {},
   "outputs": [
    {
     "name": "stdout",
     "output_type": "stream",
     "text": [
      "Masukkan tempat wisata yang ingin Anda kunjungi :pantai\n"
     ]
    },
    {
     "ename": "AttributeError",
     "evalue": "'str' object has no attribute 'place_name'",
     "output_type": "error",
     "traceback": [
      "\u001b[0;31m---------------------------------------------------------------------------\u001b[0m",
      "\u001b[0;31mAttributeError\u001b[0m                            Traceback (most recent call last)",
      "Cell \u001b[0;32mIn[6], line 2\u001b[0m\n\u001b[1;32m      1\u001b[0m input1 \u001b[38;5;241m=\u001b[39m \u001b[38;5;28minput\u001b[39m(\u001b[38;5;124m\"\u001b[39m\u001b[38;5;124mMasukkan tempat wisata yang ingin Anda kunjungi :\u001b[39m\u001b[38;5;124m\"\u001b[39m)\n\u001b[0;32m----> 2\u001b[0m output1 \u001b[38;5;241m=\u001b[39m \u001b[43mrecommend\u001b[49m\u001b[43m(\u001b[49m\u001b[43minput1\u001b[49m\u001b[43m)\u001b[49m\n",
      "Cell \u001b[0;32mIn[3], line 2\u001b[0m, in \u001b[0;36mrecommend\u001b[0;34m(place_name)\u001b[0m\n\u001b[1;32m      1\u001b[0m \u001b[38;5;28;01mdef\u001b[39;00m \u001b[38;5;21mrecommend\u001b[39m(place_name):\n\u001b[0;32m----> 2\u001b[0m     index \u001b[38;5;241m=\u001b[39m rec_wisata[\u001b[43mrec_wisata\u001b[49m\u001b[38;5;241;43m.\u001b[39;49m\u001b[43mplace_name\u001b[49m \u001b[38;5;241m==\u001b[39m rec_wisata][\u001b[38;5;124m\"\u001b[39m\u001b[38;5;124mindex\u001b[39m\u001b[38;5;124m\"\u001b[39m]\u001b[38;5;241m.\u001b[39mvalues[\u001b[38;5;241m0\u001b[39m]\n\u001b[1;32m      3\u001b[0m     distances \u001b[38;5;241m=\u001b[39m \u001b[38;5;28msorted\u001b[39m(\u001b[38;5;28mlist\u001b[39m(\u001b[38;5;28menumerate\u001b[39m(similarity[index])), reverse\u001b[38;5;241m=\u001b[39m\u001b[38;5;28;01mTrue\u001b[39;00m, key\u001b[38;5;241m=\u001b[39m\u001b[38;5;28;01mlambda\u001b[39;00m x: x[\u001b[38;5;241m1\u001b[39m])\n\u001b[1;32m      4\u001b[0m     recommended_image \u001b[38;5;241m=\u001b[39m []\n",
      "\u001b[0;31mAttributeError\u001b[0m: 'str' object has no attribute 'place_name'"
     ]
    }
   ],
   "source": [
    "input1 = input(\"Masukkan tempat wisata yang ingin Anda kunjungi :\")\n",
    "output1 = recommend(input1)"
   ]
  },
  {
   "cell_type": "code",
   "execution_count": null,
   "id": "740de249",
   "metadata": {},
   "outputs": [],
   "source": []
  }
 ],
 "metadata": {
  "kernelspec": {
   "display_name": "Python 3 (ipykernel)",
   "language": "python",
   "name": "python3"
  },
  "language_info": {
   "codemirror_mode": {
    "name": "ipython",
    "version": 3
   },
   "file_extension": ".py",
   "mimetype": "text/x-python",
   "name": "python",
   "nbconvert_exporter": "python",
   "pygments_lexer": "ipython3",
   "version": "3.9.0"
  }
 },
 "nbformat": 4,
 "nbformat_minor": 5
}
